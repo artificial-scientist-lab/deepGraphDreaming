{
 "cells": [
  {
   "cell_type": "code",
   "execution_count": 1,
   "id": "e66dde89",
   "metadata": {},
   "outputs": [
    {
     "ename": "ModuleNotFoundError",
     "evalue": "No module named 'neuralnet'",
     "output_type": "error",
     "traceback": [
      "\u001b[1;31m---------------------------------------------------------------------------\u001b[0m",
      "\u001b[1;31mModuleNotFoundError\u001b[0m                       Traceback (most recent call last)",
      "\u001b[1;32m~\\AppData\\Local\\Temp/ipykernel_21176/723387030.py\u001b[0m in \u001b[0;36m<module>\u001b[1;34m\u001b[0m\n\u001b[0;32m      1\u001b[0m \u001b[1;32mfrom\u001b[0m \u001b[0mpytheus\u001b[0m \u001b[1;32mimport\u001b[0m \u001b[0mhelp_functions\u001b[0m \u001b[1;32mas\u001b[0m \u001b[0mhf\u001b[0m\u001b[1;33m,\u001b[0m \u001b[0mtheseus\u001b[0m \u001b[1;32mas\u001b[0m \u001b[0mth\u001b[0m\u001b[1;33m,\u001b[0m \u001b[0mfancy_classes\u001b[0m \u001b[1;32mas\u001b[0m \u001b[0mfc\u001b[0m\u001b[1;33m,\u001b[0m \u001b[0mgraphplot\u001b[0m \u001b[1;32mas\u001b[0m \u001b[0mgp\u001b[0m\u001b[1;33m\u001b[0m\u001b[1;33m\u001b[0m\u001b[0m\n\u001b[1;32m----> 2\u001b[1;33m \u001b[1;32mfrom\u001b[0m \u001b[0mneuralnet\u001b[0m \u001b[1;32mimport\u001b[0m \u001b[0mprep_data\u001b[0m\u001b[1;33m,\u001b[0m \u001b[0mload_model\u001b[0m\u001b[1;33m\u001b[0m\u001b[1;33m\u001b[0m\u001b[0m\n\u001b[0m\u001b[0;32m      3\u001b[0m \u001b[1;32mfrom\u001b[0m \u001b[0mdatagen\u001b[0m \u001b[1;32mimport\u001b[0m \u001b[0mgeneratorGraphFidelity\u001b[0m\u001b[1;33m\u001b[0m\u001b[1;33m\u001b[0m\u001b[0m\n\u001b[0;32m      4\u001b[0m \u001b[1;32mimport\u001b[0m \u001b[0mmatplotlib\u001b[0m\u001b[1;33m.\u001b[0m\u001b[0mpyplot\u001b[0m \u001b[1;32mas\u001b[0m \u001b[0mplt\u001b[0m\u001b[1;33m\u001b[0m\u001b[1;33m\u001b[0m\u001b[0m\n\u001b[0;32m      5\u001b[0m \u001b[1;32mimport\u001b[0m \u001b[0mtorch\u001b[0m\u001b[1;33m\u001b[0m\u001b[1;33m\u001b[0m\u001b[0m\n",
      "\u001b[1;31mModuleNotFoundError\u001b[0m: No module named 'neuralnet'"
     ]
    }
   ],
   "source": [
    "from pytheus import help_functions as hf, theseus as th, fancy_classes as fc, graphplot as gp\n",
    "from neuralnet import prep_data, load_model\n",
    "from datagen import generatorGraphFidelity\n",
    "import matplotlib.pyplot as plt\n",
    "import torch\n",
    "import pandas as pd\n",
    "import numpy as np\n",
    "import re\n",
    "from scipy import stats\n",
    "import os\n",
    "import argparse\n",
    "import yaml\n",
    "from yaml import Loader\n",
    "import random\n",
    "\n",
    "\n",
    "# NEEDS TO BE TESTED * \n",
    "\n",
    "# Loads up the training and test data. This assumes that the dataset corresponding to the trained neural network\n",
    "# has been prepared using dataprep. \n",
    "\n",
    "def prep_data(cnfg, isTest):\n",
    "    if(isTest):\n",
    "        df = pd.read_csv(f\"{cnfg['dataTest']}.csv\", names=['weights','res'],delimiter=\";\", nrows=1200)\n",
    "    else:\n",
    "        df = pd.read_csv(f\"{cnfg['dataTrain']}.csv\", names=['weights', 'res'], delimiter=\";\", nrows=1200)\n",
    "    try:\n",
    "        weights = np.array([eval(graph) for graph in df['weights']])\n",
    "    except:\n",
    "        weights = np.array(\n",
    "            [eval(re.sub(r\"  *\", ',', graph.replace('\\n', '').replace('[ ', '['))) for graph in df['weights']])\n",
    "    res = df['res'].to_numpy()\n",
    "    return weights,res\n",
    "        \n",
    "    \n",
    "os.environ[\"KMP_DUPLICATE_LIB_OK\"]=\"TRUE\"\n",
    "\n",
    "shift =1 \n",
    "\n",
    "# Load up yaml files\n",
    "print(shift)\n",
    "stream = open(f\"configs/analyze{shift}.yaml\", 'r')\n",
    "cnfg = yaml.load(stream, Loader=Loader)\n",
    "\n",
    "weights_train, result_train = prep_data(cnfg,False)\n",
    "weights_test, result_test = prep_data(cnfg,True)\n",
    "\n",
    "nn_type = cnfg['nnType']\n",
    "print(nn_type)\n",
    "model = cnfg['model']\n",
    "device = torch.device(\"cuda:0\" if torch.cuda.is_available() else \"cpu\")\n",
    "print(\"Device:\", device)\n",
    "\n",
    "mod = load_model(f'models/{model}.pt', 'cpu', 24, 1, nn_type)\n",
    "DIM = [2] * 4\n",
    "kets = hf.makeState('0000+1111')\n",
    "state = fc.State(kets, normalize=True)\n",
    "input_graph, ket_amplitudes, output_fidelity = generatorGraphFidelity(DIM, state, short_output=False)\n"
   ]
  },
  {
   "cell_type": "markdown",
   "id": "8002c242",
   "metadata": {},
   "source": [
    "# Compute NN Prediction on the Model Output (Ideal GHZ State)"
   ]
  },
  {
   "cell_type": "code",
   "execution_count": null,
   "id": "ddc77776",
   "metadata": {},
   "outputs": [],
   "source": [
    "for edge in input_graph.edges:\n",
    "    input_graph[edge] = 0\n",
    "    if len(DIM) == 6:\n",
    "        if edge in [(0, 1, 0, 0), (2, 3, 0, 0), (4, 5, 0, 0), (1, 2, 1, 1), (3, 4, 1, 1), (0, 5, 1, 1)]:\n",
    "            input_graph[edge] = 1\n",
    "\n",
    "    else:\n",
    "        if len(DIM)==4:\n",
    "            if edge in [(0, 1, 0, 0), (2, 3, 0, 0), (1, 2, 1, 1), (0, 3, 1, 1)]:\n",
    "                input_graph[edge] = 1\n",
    "\n",
    "input_graph.getState()\n",
    "input_graph.state.normalize()\n",
    "\n",
    " # predict fidelity of baseline (which ideally should be 1)\n",
    "input = torch.tensor(input_graph.weights, dtype=torch.float).to(device)\n"
   ]
  },
  {
   "cell_type": "markdown",
   "id": "defd61c4",
   "metadata": {},
   "source": [
    "# Compute NN Predictions on Training Data"
   ]
  },
  {
   "cell_type": "code",
   "execution_count": null,
   "id": "d64fa5b1",
   "metadata": {},
   "outputs": [],
   "source": [
    "x_train = []\n",
    "y_train = []\n",
    "\n",
    "nnTitle = cnfg['name']\n",
    "\n",
    "for ii in range(1000):\n",
    "    input = torch.tensor(weights_train[ii], dtype=torch.float).to(device)\n",
    "    x_train.append(float(mod(input)))\n",
    "    y_train.append(result_train[ii])\n",
    "\n",
    "# We compute the r^2 coefficient of a hypothetical linear fit between model predictions x and ground truths y \n",
    " \n",
    "slope_train, intercept_train, r_value_train, p_value_train, std_err_train = stats.linregress(x_train, y_train)\n",
    "\n",
    "print(\"Results on training data\")\n",
    "print(f\"Slope:{slope_train}, intercept:{intercept_train}, r_value:{r_value_train}\")\n",
    "\n"
   ]
  },
  {
   "cell_type": "markdown",
   "id": "ae29dc7d",
   "metadata": {},
   "source": [
    "# Compute NN Predictions on the test/validation data"
   ]
  },
  {
   "cell_type": "code",
   "execution_count": null,
   "id": "37950d5d",
   "metadata": {},
   "outputs": [],
   "source": [
    "x_test = []\n",
    "y_test = []\n",
    "\n",
    "for ii in range(1000):\n",
    "    input = torch.tensor(weights_test[ii], dtype=torch.float).to(device)\n",
    "    x_test.append(float(mod(input)))\n",
    "    y_test.append(result_test[ii])\n",
    "\n",
    "slope_test, intercept_test, r_value_test, p_value_test, std_err_test = stats.linregress(x_test, y_test)\n",
    "\n",
    "print(\"Results on test data\")\n",
    "print(f\"Slope:{slope_test}, intercept:{intercept_test}, r_value:{r_value_test}\")\n"
   ]
  },
  {
   "cell_type": "markdown",
   "id": "aa65de32",
   "metadata": {},
   "source": [
    "# Now put it all together in a nice plot!"
   ]
  },
  {
   "cell_type": "code",
   "execution_count": null,
   "id": "6e938940",
   "metadata": {},
   "outputs": [],
   "source": [
    "import seaborn as sns\n",
    "\n",
    "\n",
    "xLine = np.linspace(0,1)\n",
    "\n",
    "fig, axes = plt.subplots(1, 2)\n",
    "\n",
    "#Plot training results in one subplot\n",
    "\n",
    "sns.lineplot(x=xLine*slope_train, y=xLine, ax=axes[0])\n",
    "sns.scatterplot(x=x_train, y=y_train, ax=axes[0])\n",
    "sns.scatterplot(x=float(mod(input)), y=1, color='green', ax=axes[0])\n",
    "axes[0].set_title(f'True Fidelity vs. Predicted Fidelity -- {nnTitle} -- Training Data \\n r^2 value:{r_value_train**2}')\n",
    "axes[0].set_xlabel('Predicted Value')\n",
    "axes[0].set_ylabel('True Value')\n",
    "\n",
    "#plot test results in another subplot\n",
    "\n",
    "sns.lineplot(x=xLine*slope_test, y=xLine, ax=axes[1], color='red')\n",
    "sns.scatterplot(x=x_test, y=y_test, ax=axes[1], color='red')\n",
    "sns.scatterplot(x=float(mod(input)), y=1, color='green', ax=axes[1])\n",
    "axes[1].set_title(f'True Fidelity vs. Predicted Fidelity -- {nnTitle} -- Training Data \\n r^2 value:{r_value_test**2}')\n",
    "axes[1].set_xlabel('Predicted Value')\n",
    "axes[1].set_ylabel('True Value')\n"
   ]
  }
 ],
 "metadata": {
  "kernelspec": {
   "display_name": "Python 3 (ipykernel)",
   "language": "python",
   "name": "python3"
  },
  "language_info": {
   "codemirror_mode": {
    "name": "ipython",
    "version": 3
   },
   "file_extension": ".py",
   "mimetype": "text/x-python",
   "name": "python",
   "nbconvert_exporter": "python",
   "pygments_lexer": "ipython3",
   "version": "3.9.7"
  }
 },
 "nbformat": 4,
 "nbformat_minor": 5
}
