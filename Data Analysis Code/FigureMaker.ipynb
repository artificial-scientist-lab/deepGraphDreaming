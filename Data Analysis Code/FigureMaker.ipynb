{
 "cells": [
  {
   "cell_type": "code",
   "execution_count": 2,
   "id": "c87bde5a",
   "metadata": {},
   "outputs": [],
   "source": [
    "from pytheus import help_functions as hf, theseus as th, fancy_classes as fc, graphplot as gp\n",
    "from neuralnet import load_model\n",
    "from datagen import generatorGraphFidelity\n",
    "import matplotlib.pyplot as plt\n",
    "import os\n",
    "import pandas as pd\n",
    "import numpy as np\n",
    "import matplotlib.cm as cm\n",
    "import glob\n",
    "\n",
    "\n",
    "# Load up all csvs in the relevant directory\n",
    "\n",
    "directory = \"dreamfiles/dream_looong_layer20\"\n",
    "neuron_indices = [0]\n",
    "fileLists = []\n",
    "data = []\n",
    "for neuron in neuron_indices:\n",
    "    fileLists.append(glob.glob(f\"{directory}/*_{neuron}.csv\"))\n",
    "    \n",
    "fileLists = fileLists[0]\n",
    "# Now load up all the csv files\n",
    "\n",
    "for filename in fileLists:\n",
    "    df = pd.read_csv(filename, sep=\";\", names=['fidelity', 'activation', 'graph'])\n",
    "    data.append([list(df.iloc[:, 0]), list(df.iloc[:, 1]), list(df.iloc[:,2])])\n",
    "    \n",
    "    \n",
    "# Some preliminaries \n",
    "\n",
    "DIM = [2] * 4\n",
    "kets = hf.makeState('0000+1111')\n",
    "state = fc.State(kets, normalize=True)\n",
    "edges = th.buildAllEdges(DIM)\n",
    "graph = fc.Graph(edges)\n",
    "\n",
    "\n",
    "\n",
    "# Let us consider different colours \n",
    "colour = cm.rainbow(np.linspace(0,1,1000))"
   ]
  },
  {
   "cell_type": "code",
   "execution_count": 14,
   "id": "e42989ad",
   "metadata": {},
   "outputs": [],
   "source": [
    "# Load up initial and final dataset.\n",
    "\n",
    "init = []\n",
    "final = []\n",
    "\n",
    "for ii, sample in enumerate(data):\n",
    "    init.append(sample[0][0])\n",
    "    final.append(sample[0][-1])\n",
    "    \n",
    "maxFid = np.argmax(final)"
   ]
  },
  {
   "cell_type": "markdown",
   "id": "4d2392f3",
   "metadata": {},
   "source": [
    "Saves sets of graphs"
   ]
  },
  {
   "cell_type": "code",
   "execution_count": 7,
   "id": "a10a1bb8",
   "metadata": {},
   "outputs": [],
   "source": [
    "# Loads the initial graphs and saves them as .csv files\n",
    "from datagen import constructGraph \n",
    "from pytheus.lossfunctions import fidelity\n",
    "import csv\n",
    "\n",
    "\n",
    "cnfgfid = {\"heralding_out\": False, \"imaginary\": False}\n",
    "fid = fidelity(graph,state,cnfgfid)\n",
    "\n",
    "fileLists = fileLists[:20]\n",
    "\n",
    "def saveInit(fileList):\n",
    "    weightList = []\n",
    "    for ii, filename in enumerate(fileList):\n",
    "        df = pd.read_csv(filename, sep=\";\", names=['fidelity', 'activation', 'graph'])\n",
    "        initWeights = eval(df.iloc[0, 2])\n",
    "        initWeights = [w / np.max(np.abs(initWeights)) for w in initWeights] # renormalization step\n",
    "        output_fidelity = constructGraph(initWeights, [2]*4, fid, 'a')[0]\n",
    "        with open(f'init_{len(fileList)}.csv', 'a') as f:\n",
    "                writer = csv.writer(f, delimiter=\";\")\n",
    "                writer.writerow([list(initWeights), output_fidelity])\n",
    "        \n",
    "        \n",
    "saveInit(fileLists)"
   ]
  },
  {
   "cell_type": "markdown",
   "id": "d75f3fd4",
   "metadata": {},
   "source": [
    "# Figure 2: Plotting Fidelity-Loss Evolution"
   ]
  },
  {
   "cell_type": "code",
   "execution_count": 21,
   "id": "6a17a9e2",
   "metadata": {},
   "outputs": [
    {
     "data": {
      "image/png": "[encoded data removed]",
      "text/plain": [
       "<Figure size 432x288 with 2 Axes>"
      ]
     },
     "metadata": {
      "needs_background": "light"
     },
     "output_type": "display_data"
    }
   ],
   "source": [
    "# We can obtain the total number of epochs from the datalength. \n",
    "# We save data every 100 epochs in the procedure, so we therefoe have e.g.\n",
    "# 100 * len(data[0][0]) epochs\n",
    "\n",
    "epochs = np.arange(0,len(data[0][0])*100,100)\n",
    "\n",
    "# create figure and axis objects with subplots()\n",
    "fig,ax = plt.subplots()\n",
    "\n",
    "fig.suptitle(\"GHZ Fidelity - Loss Evolution \\n [400,400,400,10] neural network\")\n",
    "\n",
    "# make a plot\n",
    "ax.scatter(epochs,fancySample[0], color='r', s = 8)\n",
    "ax.plot(epochs[-1],[fancySample[0][-1]], marker='*', markersize=14)\n",
    "\n",
    "# set x-axis label\n",
    "ax.set_xlabel(\"Epochs\", fontsize = 12)\n",
    "# set y-axis label\n",
    "ax.set_ylabel(\"GHZ Fidelity\",\n",
    "              color=\"red\",\n",
    "              fontsize=12)\n",
    "\n",
    "ax2=ax.twinx()\n",
    "# set x-axis label\n",
    "ax2.set_xlabel(\"Epochs\", fontsize = 12)\n",
    "# set y-axis label\n",
    "ax2.set_ylabel(\"Activation\",\n",
    "              color=\"Blue\",\n",
    "              fontsize=12)\n",
    "\n",
    "# make a plot\n",
    "\n",
    "\n",
    "for sample in data:\n",
    "    ax2.scatter(epochs,sample[1], color='b', s=8)\n",
    "    ax2.plot(epochs[-1],[sample[1][-1]], marker='*', markersize=14)"
   ]
  },
  {
   "cell_type": "code",
   "execution_count": null,
   "id": "8af1574d",
   "metadata": {},
   "outputs": [],
   "source": [
    "# Now we apply renormalization on our chosen graph and make a fancy graph plot of the smegger\n",
    "\n",
    "graphWeights = []\n",
    "\n",
    "for weights in fancySample[2]:\n",
    "    temp = eval(weights)\n",
    "    temp = [w / np.max(np.abs(temp)) for w in temp] # renormalization step\n",
    "    graphWeights.append(temp)\n",
    "\n",
    "\n",
    "def plotGraph(graphWeight, edges, epoch, threshold):\n",
    "    graph = fc.Graph(edges=edges, weights=graphWeight[epoch])\n",
    "    graph.purge(threshold=threshold, update=True)\n",
    "    newgraph = fc.Graph(graph.edges, weights=graph.weights)\n",
    "    gp.graphPlot(newgraph)\n",
    "    #gp.leiwandPlot(newgraph, name=f\"graph_{epoch}\")\n",
    "\n",
    "plotGraph(graphWeights, edges, 200 ,0.4)"
   ]
  },
  {
   "cell_type": "code",
   "execution_count": null,
   "id": "8a35c90a",
   "metadata": {},
   "outputs": [],
   "source": [
    "%hist -g "
   ]
  },
  {
   "cell_type": "markdown",
   "id": "e17dad39",
   "metadata": {},
   "source": [
    "# Figure 3: Histogram Plot"
   ]
  },
  {
   "cell_type": "code",
   "execution_count": 22,
   "id": "6349f5b4",
   "metadata": {},
   "outputs": [
    {
     "data": {
      "text/plain": [
       "<matplotlib.legend.Legend at 0x169ec1e1820>"
      ]
     },
     "execution_count": 22,
     "metadata": {},
     "output_type": "execute_result"
    },
    {
     "data": {
      "image/png": "[encoded data removed]",
      "text/plain": [
       "<Figure size 720x432 with 1 Axes>"
      ]
     },
     "metadata": {
      "needs_background": "light"
     },
     "output_type": "display_data"
    }
   ],
   "source": [
    "# Make the histogram plot\n",
    "plt.figure(figsize=(10, 6))\n",
    "bins = np.arange(0, 1, 0.01)\n",
    "plt.title('Initial vs. Dreamed GHZ-state Fidelities for [400,400,400,10] Neural Network')\n",
    "plt.yscale('log')\n",
    "plt.xlim([0,1])\n",
    "plt.hist(init, bins=bins, alpha=0.6, orientation=\"vertical\",label='initial graphs')\n",
    "plt.hist(final, bins=bins, alpha=0.6, orientation=\"vertical\",label='dreamed graphs')\n",
    "plt.xlabel('Fidelity')\n",
    "plt.ylabel('Number of Samples')\n",
    "plt.legend(prop={'size': 10})\n"
   ]
  },
  {
   "cell_type": "markdown",
   "id": "12fa202e",
   "metadata": {},
   "source": [
    "# Figure 4: Crazy Graph Plot"
   ]
  },
  {
   "cell_type": "code",
   "execution_count": 92,
   "id": "dd49b3e9",
   "metadata": {},
   "outputs": [
    {
     "name": "stdout",
     "output_type": "stream",
     "text": [
      "['dreamfiles/dream_ten']\n",
      "dreamfiles/dream_ten/dream0_0.csv\n",
      "dreamfiles/dream_ten/dream1_0.csv\n",
      "dreamfiles/dream_ten/dream2_0.csv\n",
      "dreamfiles/dream_ten/dream3_0.csv\n",
      "dreamfiles/dream_ten/dream4_0.csv\n",
      "dreamfiles/dream_ten/dream5_0.csv\n",
      "dreamfiles/dream_ten/dream6_0.csv\n",
      "dreamfiles/dream_ten/dream7_0.csv\n",
      "dreamfiles/dream_ten/dream8_0.csv\n",
      "dreamfiles/dream_ten/dream9_0.csv\n"
     ]
    },
    {
     "data": {
      "text/plain": [
       "[['dreamfiles/dream_ten/dream0_0.csv',\n",
       "  'dreamfiles/dream_ten/dream1_0.csv',\n",
       "  'dreamfiles/dream_ten/dream2_0.csv',\n",
       "  'dreamfiles/dream_ten/dream3_0.csv',\n",
       "  'dreamfiles/dream_ten/dream4_0.csv',\n",
       "  'dreamfiles/dream_ten/dream5_0.csv',\n",
       "  'dreamfiles/dream_ten/dream6_0.csv',\n",
       "  'dreamfiles/dream_ten/dream7_0.csv',\n",
       "  'dreamfiles/dream_ten/dream8_0.csv',\n",
       "  'dreamfiles/dream_ten/dream9_0.csv']]"
      ]
     },
     "execution_count": 92,
     "metadata": {},
     "output_type": "execute_result"
    }
   ],
   "source": [
    "import yaml \n",
    "from yaml import Loader\n",
    "\n",
    "# Let's load up data from dreaming on the inverse layer\n",
    "\n",
    "directory = \"dreamfiles/dream_400_nb2_layer2_888\"\n",
    "directories = [f\"dreamfiles/dream_looong_layer{ii}_888\" for ii in range(0,20,2)]\n",
    "directories = [f\"dreamfiles/dream_ten\"]\n",
    "print(directories)\n",
    "\n",
    "\n",
    "neuron_indices = [0]\n",
    "start_graph_index = np.arange(10)\n",
    "\n",
    "\n",
    "fileLists = []\n",
    "data = []\n",
    "\n",
    "stream = open(\"configs/anaDream.yaml\", 'r')\n",
    "cnfg = yaml.load(stream, Loader=Loader)\n",
    "\n",
    "\n",
    "for directory in directories:\n",
    "    fileList = []\n",
    "    for neuron in neuron_indices:\n",
    "        for start_graph in start_graph_index:\n",
    "            fileList += glob.glob(f\"{directory}/dream{start_graph}_{neuron}.csv\")\n",
    "            \n",
    "    fileLists.append(fileList)\n",
    "\n",
    "# Now load up all the csv files\n",
    "\n",
    "for fileList in fileLists:\n",
    "    for filename in fileList:\n",
    "        print(filename)\n",
    "        df = pd.read_csv(filename, sep=\";\", names=['fidelity', 'activation', 'graph'])\n",
    "        data.append([list(df.iloc[:, 0]), list(df.iloc[:, 1]), list(df.iloc[:, 2])])\n",
    "    \n",
    "# This eliminates any empty elements    \n",
    "    \n",
    "res = [ele for ele in fileLists if ele != []]\n",
    "res"
   ]
  },
  {
   "cell_type": "markdown",
   "id": "7e315803",
   "metadata": {},
   "source": [
    "We will be dealing with probabilities. It will be of interest to us to normalize these probabilities in a nice way"
   ]
  },
  {
   "cell_type": "code",
   "execution_count": 98,
   "id": "d4cdc85a",
   "metadata": {},
   "outputs": [],
   "source": [
    "# We want to normalize the probabilities corresponding to (a) all possible perfect matchings and (b) the 16 possible kets.\n",
    "\n",
    "def getProbNorm(listOfProbs):\n",
    "    listOfProbs = np.array(listOfProbs)\n",
    "    listOfProbs = listOfProbs.flatten()\n",
    "    probSum = 0\n",
    "    for prob in listOfProbs:\n",
    "        probSum += np.abs(prob)**2\n",
    "    return np.sqrt(1/probSum)"
   ]
  },
  {
   "cell_type": "markdown",
   "id": "7def485e",
   "metadata": {},
   "source": [
    "These functions compute histograms of all the avaliable perfect matchings "
   ]
  },
  {
   "cell_type": "code",
   "execution_count": 99,
   "id": "712aa86b",
   "metadata": {
    "scrolled": true
   },
   "outputs": [],
   "source": [
    "from datagen import constructGraph \n",
    "from pytheus.lossfunctions import fidelity\n",
    "import csv\n",
    "# Functions are very similar to the regular histogram making ones. Is just that now we're dealing with three of them. \n",
    "\n",
    "cnfgfid = {\"heralding_out\": False, \"imaginary\": False}\n",
    "fid = fidelity(graph,state,cnfgfid)\n",
    "\n",
    "# Loads the initial graphs and saves them as .csv files\n",
    "\n",
    "def saveInit(fileList):\n",
    "    weightList = []\n",
    "    for ii, filename in enumerate(fileList):\n",
    "        df = pd.read_csv(filename, sep=\";\", names=['fidelity', 'activation', 'graph'])\n",
    "        initWeights = eval(df.iloc[0, 2])\n",
    "        initWeights = [w / np.max(np.abs(initWeights)) for w in initWeights] # renormalization step\n",
    "        output_fidelity = constructGraph(initWeights, [2]*4, fid, 'a')[0]\n",
    "        with open(f'init_{ii}.csv', 'a') as f:\n",
    "                writer = csv.writer(f, delimiter=\";\")\n",
    "                writer.writerow([list(initWeights), output_fidelity])\n",
    "        \n",
    "\n",
    "def loadAll(fileList):\n",
    "    weightList = []\n",
    "    for filename in fileList:\n",
    "        df = pd.read_csv(filename, sep=\";\", names=['fidelity', 'activation', 'graph'])\n",
    "        finalWeights = eval(df.iloc[-1, 2])\n",
    "        finalWeights = [w / np.max(np.abs(finalWeights)) for w in finalWeights] # renormalization step\n",
    "        weightList.append(finalWeights)\n",
    "    \n",
    "    return weightList\n",
    "\n",
    "\n",
    "def getPMKets(fileList, edges):\n",
    "    finalWeights = loadAll(fileList)\n",
    "    ultiKets = []\n",
    "    \n",
    "    # Store all information about the ket amplitudes in seperate lists\n",
    "    for subList in finalWeights:\n",
    "        graph = fc.Graph(edges=edges, weights=subList)\n",
    "        ultiKets.append(getPMAmplitudes(graph))\n",
    "    return ultiKets\n",
    "\n",
    "\n",
    "# This retrieves information about the kets and their corresponding values from each graph.  \n",
    "\n",
    "def extractPMKets(fileList, edges, isProb):\n",
    "    ultiKets = getPMKets(fileList, edges)\n",
    "    totalPMKets = {}\n",
    "    for ket in ultiKets[0].keys():\n",
    "        ketList = []\n",
    "        for graph in ultiKets:\n",
    "            if (isProb):\n",
    "                ketList.append(np.abs(graph[ket])**2)\n",
    "            else:\n",
    "                ketList.append(graph[ket])\n",
    "        totalPMKets[ket] =  ketList\n",
    "        \n",
    "    return totalPMKets\n",
    "\n",
    "\n",
    "# Adds them up, computes variance, then plots that over histogram \n",
    "\n",
    "def getMeanVar(fileList, edges):\n",
    "    # Obtain total ket dictionary \n",
    "    totalKets = extractPMKets(fileList, edges, True)\n",
    "    # Compute mean/variance for each ket\n",
    "    meanPMKet = {}\n",
    "    varPM = []\n",
    "    for ket in totalKets.keys():\n",
    "        meanPMKet[ket] = np.mean(totalKets[ket],axis = 0)\n",
    "        varPM.append(np.var(totalKets[ket],axis =0))\n",
    "    return meanPMKet, varPM\n",
    "\n",
    "# This returns the contributions due to perfect matchings for each ket given a graph as input\n",
    "\n",
    "def getPMAmplitudes(graph):\n",
    "    states = graph.state_catalog\n",
    "    kets = list(states.keys())\n",
    "    ultiKet = {}\n",
    "    for ket in kets:\n",
    "        pms = []\n",
    "        for subgraph in states[ket]:\n",
    "            pms.append(np.prod([graph[edge] for edge in subgraph]))\n",
    "        ultiKet[ket] = pms\n",
    "    return ultiKet\n"
   ]
  },
  {
   "cell_type": "code",
   "execution_count": 153,
   "id": "9311f061",
   "metadata": {},
   "outputs": [],
   "source": [
    "# Let's compute the perfect matchings for each one of our files\n",
    "\n",
    "meanPMs = []\n",
    "\n",
    "for layer in res:\n",
    "    meanPMs.append(list(getMeanVar(fileList, edges)[0].values()))\n",
    "\n",
    "\n",
    "# The probabilities are all also normalized such that sum of absolute square equals 1\n",
    "\n",
    "for ii in range(len(meanPMs)):\n",
    "    norm = getProbNorm(meanPMs[ii])\n",
    "    meanPMs[ii] = [[arr * norm] for arr in meanPMs[ii]]\n",
    "    "
   ]
  },
  {
   "cell_type": "markdown",
   "id": "1884078a",
   "metadata": {},
   "source": [
    "We also compute the (mean) probability of the kets themselves. We have already done this before, fortunately"
   ]
  },
  {
   "cell_type": "code",
   "execution_count": 133,
   "id": "ef283f3e",
   "metadata": {},
   "outputs": [],
   "source": [
    "# This retrieves information about the resulting states from all the dreamed graphs\n",
    "    \n",
    "def getKets(fileList, edges):\n",
    "    finalWeights = loadAll(fileList)\n",
    "    dreamStates = []\n",
    "    # Store all information about the ket amplitudes in seperate lists\n",
    "    for subList in finalWeights:\n",
    "        graph = fc.Graph(edges=edges, weights=subList)\n",
    "        graph.getState()\n",
    "        dreamState = graph.state\n",
    "        dreamState.normalize()\n",
    "        dreamStates.append(dreamState.state)\n",
    "    return dreamStates\n",
    "\n",
    "# This retrieves information about the kets and their corresponding values from each graph.  \n",
    "\n",
    "def extractAllKets(fileList, edges, isProb):\n",
    "    kets = getKets(fileList, edges)\n",
    "    totalKets = {}\n",
    "    for ket in kets[0].keys():\n",
    "        ketList = []\n",
    "        for k in kets:\n",
    "            if(isProb):\n",
    "                ketList.append(np.abs(k[ket])**2)\n",
    "            else:\n",
    "                ketList.append(k[ket])\n",
    "        totalKets[ket] = ketList\n",
    "    return totalKets\n",
    "\n",
    "# Adds them up, computes variance, then plots that over histogram \n",
    "def getKetMeanVar(fileList, edges):\n",
    "    # Load up relevant parameters\n",
    "    isProb = cnfg['isProb']\n",
    "    saveDirec = cnfg['saveDirec']\n",
    "    # Obtain total ket dictionary \n",
    "    totalKets = extractAllKets(fileList, edges, True)\n",
    "    # Compute mean/variance for each ket\n",
    "    meanKet = {}\n",
    "    var = []\n",
    "    for ket in totalKets.keys():\n",
    "        meanKet[ket] = np.mean(totalKets[ket])\n",
    "        var.append(np.var(totalKets[ket]))\n",
    "    return meanKet, var\n"
   ]
  },
  {
   "cell_type": "code",
   "execution_count": 160,
   "id": "e25d88c4",
   "metadata": {},
   "outputs": [],
   "source": [
    "# Now we compute the ket-specific probabilities\n",
    "meanKets = []\n",
    "for layer in res:\n",
    "    meanKets.append(list(getKetMeanVar(layer, edges)[0].values()))\n",
    "\n",
    "# As before, let us normalize\n",
    "for ii in range(len(meanKets)):\n",
    "    norm = getProbNorm(meanKets[ii])\n",
    "    meanKets[ii] = [ketProb * norm for ketProb in meanKets[ii]]\n",
    "    "
   ]
  },
  {
   "cell_type": "code",
   "execution_count": 164,
   "id": "5e92f1ce",
   "metadata": {},
   "outputs": [
    {
     "data": {
      "text/plain": [
       "[0.46697314108265975,\n",
       " 0.11478163966409594,\n",
       " 0.06835147238805814,\n",
       " 0.0800442435762649,\n",
       " 0.05855471060502805,\n",
       " 0.18980068098444128,\n",
       " 0.06278122342542364,\n",
       " 0.09360249702844617,\n",
       " 0.07518333086617708,\n",
       " 0.05771486077052926,\n",
       " 0.16215869098029462,\n",
       " 0.06928630544910071,\n",
       " 0.09755543835058726,\n",
       " 0.11476969655527108,\n",
       " 0.06838253530881566,\n",
       " 0.7988000403002028]"
      ]
     },
     "execution_count": 164,
     "metadata": {},
     "output_type": "execute_result"
    }
   ],
   "source": [
    "meanKets[0]"
   ]
  },
  {
   "cell_type": "markdown",
   "id": "d75ff30c",
   "metadata": {},
   "source": [
    "# Make 2D/3D Plot of Histogram"
   ]
  },
  {
   "cell_type": "code",
   "execution_count": 163,
   "id": "7ccf0c11",
   "metadata": {},
   "outputs": [
    {
     "name": "stdout",
     "output_type": "stream",
     "text": [
      "[array([0.06015987, 0.13584685, 0.00098729])]\n"
     ]
    },
    {
     "ename": "IndexError",
     "evalue": "list index out of range",
     "output_type": "error",
     "traceback": [
      "\u001b[1;31m---------------------------------------------------------------------------\u001b[0m",
      "\u001b[1;31mIndexError\u001b[0m                                Traceback (most recent call last)",
      "\u001b[1;32m~\\AppData\\Local\\Temp/ipykernel_12732/2288966552.py\u001b[0m in \u001b[0;36m<module>\u001b[1;34m\u001b[0m\n\u001b[0;32m      9\u001b[0m \u001b[0mx_ticks\u001b[0m \u001b[1;33m=\u001b[0m \u001b[0mx_ticks\u001b[0m\u001b[1;33m\u001b[0m\u001b[1;33m\u001b[0m\u001b[0m\n\u001b[0;32m     10\u001b[0m \u001b[1;33m\u001b[0m\u001b[0m\n\u001b[1;32m---> 11\u001b[1;33m \u001b[0mplt\u001b[0m\u001b[1;33m.\u001b[0m\u001b[0mimshow\u001b[0m\u001b[1;33m(\u001b[0m\u001b[0mmeanPMs\u001b[0m\u001b[1;33m[\u001b[0m\u001b[1;36m5\u001b[0m\u001b[1;33m]\u001b[0m\u001b[1;33m)\u001b[0m\u001b[1;33m\u001b[0m\u001b[1;33m\u001b[0m\u001b[0m\n\u001b[0m",
      "\u001b[1;31mIndexError\u001b[0m: list index out of range"
     ]
    }
   ],
   "source": [
    "#Let's get ready to plot those histograms\n",
    "\n",
    "print(meanPMs[-1][0])\n",
    "sampleMean = getMeanVar([res[-1][0]], edges)[0]\n",
    "\n",
    "x_ticks = []\n",
    "for ket in sampleMean.keys():\n",
    "    x_ticks.append(f\"|{ket[0][1]},{ket[1][1]},{ket[2][1]},{ket[3][1]}>\")\n",
    "x_ticks = x_ticks\n",
    "\n",
    "plt.imshow(meanPMs[5])"
   ]
  },
  {
   "cell_type": "code",
   "execution_count": 136,
   "id": "8ad51bef",
   "metadata": {},
   "outputs": [],
   "source": [
    "# Save the 3 x 16 histogram \n",
    "\n",
    "with open(\"3by16.txt\", mode=\"w\") as f:\n",
    "    for ii, entropy in enumerate(meanPMs):\n",
    "        f.write(f'Graph {ii}: {entropy} \\n')\n",
    "    f.close()\n"
   ]
  },
  {
   "cell_type": "markdown",
   "id": "90cdd06b",
   "metadata": {},
   "source": [
    "# Compute the information entropy observed for each neuron. (Maybe make a plot alongside each neuron?) "
   ]
  },
  {
   "cell_type": "markdown",
   "id": "a7f48b69",
   "metadata": {},
   "source": [
    "We compute two kinds of information entropy: one representing the kets, the other representing the PMs"
   ]
  },
  {
   "cell_type": "code",
   "execution_count": 165,
   "id": "013edf89",
   "metadata": {},
   "outputs": [],
   "source": [
    "newMeans = []\n",
    "newKets = []\n",
    "\n",
    "for layer in meanPMs:\n",
    "    newMeans.append(np.array(layer).flatten())\n",
    "\n",
    "for layer in meanKets:\n",
    "    newKets.append(np.array(layer).flatten())\n",
    "    \n"
   ]
  },
  {
   "cell_type": "code",
   "execution_count": 169,
   "id": "574ed96b",
   "metadata": {},
   "outputs": [
    {
     "data": {
      "text/plain": [
       "1"
      ]
     },
     "execution_count": 169,
     "metadata": {},
     "output_type": "execute_result"
    }
   ],
   "source": [
    "len(newKets)"
   ]
  },
  {
   "cell_type": "code",
   "execution_count": 170,
   "id": "6112c3d2",
   "metadata": {},
   "outputs": [],
   "source": [
    "def compEntropy(probs):\n",
    "    entro = 0\n",
    "    for prob in probs:\n",
    "        entro -= prob*np.log2(prob)\n",
    "    return entro\n",
    "\n",
    "pmEntropies = []\n",
    "ketEntropies  = []\n",
    "\n",
    "# Compute the total information entropy from every neuron\n",
    "\n",
    "for ii in range(len(newKets)):\n",
    "    pmEntropy = compEntropy(newMeans[ii])\n",
    "    ketEntropy = compEntropy(newKets[ii])\n",
    "    pmEntropies.append(pmEntropy)\n",
    "    ketEntropies.append(ketEntropy)\n",
    " "
   ]
  },
  {
   "cell_type": "code",
   "execution_count": 174,
   "id": "d540365d",
   "metadata": {},
   "outputs": [
    {
     "data": {
      "text/plain": [
       "([6.2407686043680295], [5.113174805296404])"
      ]
     },
     "execution_count": 174,
     "metadata": {},
     "output_type": "execute_result"
    }
   ],
   "source": [
    "pmEntropies, ketEntropies"
   ]
  },
  {
   "cell_type": "code",
   "execution_count": 401,
   "id": "997b0812",
   "metadata": {},
   "outputs": [],
   "source": [
    "with open(\"Data.txt\", mode=\"w\") as f:\n",
    "    for ii, entropy in enumerate(entropies):\n",
    "        f.write(f' Graph {ii} \\n  {entropy} \\n')\n",
    "    f.close()"
   ]
  },
  {
   "cell_type": "code",
   "execution_count": 275,
   "id": "eb4864a4",
   "metadata": {},
   "outputs": [
    {
     "data": {
      "text/plain": [
       "5.431675725895457"
      ]
     },
     "execution_count": 275,
     "metadata": {},
     "output_type": "execute_result"
    }
   ],
   "source": [
    "# As a overall metric, calculate the mean information entropy of the layer\n",
    "\n",
    "# Prepare for plotting\n",
    "\n",
    "entropies = np.array(entropies)\n",
    "entropies = entropies[:50]\n",
    "meanEntro = np.mean(entropies)\n",
    "entropies = np.reshape(entropies, (7,7))\n",
    "\n",
    "np.argmax(entropies)"
   ]
  },
  {
   "cell_type": "code",
   "execution_count": 409,
   "id": "71e1390e",
   "metadata": {
    "scrolled": false
   },
   "outputs": [
    {
     "data": {
      "text/plain": [
       "<matplotlib.colorbar.Colorbar at 0x1bd8afe06d0>"
      ]
     },
     "execution_count": 409,
     "metadata": {},
     "output_type": "execute_result"
    },
    {
     "data": {
      "image/png": "[encoded data removed]",
      "text/plain": [
       "<Figure size 1440x1440 with 2 Axes>"
      ]
     },
     "metadata": {
      "needs_background": "light"
     },
     "output_type": "display_data"
    }
   ],
   "source": [
    "# Make a histogram plot\n",
    "plt.figure(figsize=(20,20))\n",
    "plt.imshow(entropies, vmin=5, vmax=20)\n",
    "plt.axis('off')\n",
    "plt.colorbar()"
   ]
  },
  {
   "cell_type": "code",
   "execution_count": 395,
   "id": "4a12fa79",
   "metadata": {},
   "outputs": [
    {
     "data": {
      "text/plain": [
       "array(['dreamfiles/dream_ten/dream0_0.csv',\n",
       "       'dreamfiles/dream_ten/dream1_0.csv',\n",
       "       'dreamfiles/dream_ten/dream2_0.csv',\n",
       "       'dreamfiles/dream_ten/dream3_0.csv',\n",
       "       'dreamfiles/dream_ten/dream4_0.csv',\n",
       "       'dreamfiles/dream_ten/dream5_0.csv',\n",
       "       'dreamfiles/dream_ten/dream6_0.csv',\n",
       "       'dreamfiles/dream_ten/dream7_0.csv',\n",
       "       'dreamfiles/dream_ten/dream8_0.csv',\n",
       "       'dreamfiles/dream_ten/dream9_0.csv'], dtype='<U33')"
      ]
     },
     "execution_count": 395,
     "metadata": {},
     "output_type": "execute_result"
    }
   ],
   "source": [
    "res = np.array(res)\n",
    "res = res.flatten()\n",
    "res"
   ]
  },
  {
   "cell_type": "markdown",
   "id": "f862b4e0",
   "metadata": {},
   "source": [
    "# Make individual plots on the inverse dreamed graphs "
   ]
  },
  {
   "cell_type": "code",
   "execution_count": 408,
   "id": "c284fe9d",
   "metadata": {},
   "outputs": [
    {
     "name": "stdout",
     "output_type": "stream",
     "text": [
      "[0.6504940112296481, 0.20020315069205535, -0.29233131268291873, -0.32226540699030315, -0.07397193579810867, 0.09880953051107069, 0.3832116868544065, -0.9816684278331862, 0.6313190627913497, 0.5564707724095707, -0.0227180244402734, 0.783861549258246, 0.7603022344029539, -0.5025684080502197, 0.1733934783762527, 1.0, 0.5175066921647122, -0.003945921900976871, 0.18775202507343555, -0.5646597946324362, -0.052226146648073894, 0.403683331001195, -0.6456831047569724, 0.5909504991580177]\n",
      "State:\n",
      "{((0, 0), (1, 0), (2, 0), (3, 0)): -0.06888948420770799,\n",
      " ((0, 0), (1, 0), (2, 0), (3, 1)): -0.034401393016711655,\n",
      " ((0, 0), (1, 0), (2, 1), (3, 0)): -0.022891147985062896,\n",
      " ((0, 0), (1, 0), (2, 1), (3, 1)): 0.290280661074874,\n",
      " ((0, 0), (1, 1), (2, 0), (3, 0)): 0.06055050097274067,\n",
      " ((0, 0), (1, 1), (2, 0), (3, 1)): -0.11076892791207517,\n",
      " ((0, 0), (1, 1), (2, 1), (3, 0)): 0.013800840295161976,\n",
      " ((0, 0), (1, 1), (2, 1), (3, 1)): -0.26430437627318315,\n",
      " ((0, 1), (1, 0), (2, 0), (3, 0)): 0.04361483115965266,\n",
      " ((0, 1), (1, 0), (2, 0), (3, 1)): -0.04551342530314606,\n",
      " ((0, 1), (1, 0), (2, 1), (3, 0)): 0.18718670374840005,\n",
      " ((0, 1), (1, 0), (2, 1), (3, 1)): 0.01969573780584821,\n",
      " ((0, 1), (1, 1), (2, 0), (3, 0)): 0.1362911899092598,\n",
      " ((0, 1), (1, 1), (2, 0), (3, 1)): 0.0035911604337005645,\n",
      " ((0, 1), (1, 1), (2, 1), (3, 0)): 0.10129017626266962,\n",
      " ((0, 1), (1, 1), (2, 1), (3, 1)): -0.8689373607975622}\n",
      "Fidelity: 0.4397595956062694\n"
     ]
    },
    {
     "data": {
      "image/png": "[encoded data removed]",
      "text/plain": [
       "<Figure size 720x720 with 1 Axes>"
      ]
     },
     "metadata": {
      "needs_background": "light"
     },
     "output_type": "display_data"
    }
   ],
   "source": [
    "# Plots individual graphs \n",
    "\n",
    "def graphPlotter(finalWeights, edges, firstIndex, lastIndex, threshold, fancyPlot=False):\n",
    "    selectWeights = finalWeights[firstIndex:lastIndex]\n",
    "    avgWeight = [sum(sub_list) / len(sub_list) for sub_list in zip(*selectWeights)]\n",
    "    graph = fc.Graph(edges=edges, weights=avgWeight)\n",
    "    graph.getState()\n",
    "    dreamstate = graph.state\n",
    "    dreamstate.normalize()\n",
    "    print(\"State:\")\n",
    "    print(graph.state)\n",
    "    print(f\"Fidelity: {(state @ graph.state) ** 2}\")\n",
    "    graph.purge(threshold=threshold, update=True)\n",
    "    newgraph = fc.Graph(graph.edges, weights=graph.weights)\n",
    "    if(fancyPlot):\n",
    "        gp.leiwandPlot(newgraph)\n",
    "    else:\n",
    "        gp.graphPlot(newgraph)\n",
    "\n",
    "        \n",
    "finalWeights = loadAll(res)\n",
    "#activations = loadAll(combFile)[0]\n",
    "print(finalWeights[1])\n",
    "\n",
    "#maxActive = np.argmax(activations)\n",
    "graphPlotter(finalWeights, edges,8,9,0.3)   "
   ]
  },
  {
   "cell_type": "code",
   "execution_count": 185,
   "id": "85bb2add",
   "metadata": {},
   "outputs": [
    {
     "data": {
      "text/plain": [
       "[0.14498596075757503,\n",
       " 0.052634283429702,\n",
       " 0.019207945483042936,\n",
       " -0.21758610011054688,\n",
       " -0.4027447680987188,\n",
       " 0.04994124813133548,\n",
       " -0.027412096674493153,\n",
       " 0.08839557948532288,\n",
       " 0.6790670759750147,\n",
       " -0.02373875200523088,\n",
       " 0.04423018624001642,\n",
       " -0.0757639450005822,\n",
       " -0.5302692966876964,\n",
       " 0.004882140056703235,\n",
       " -0.010116564809084107,\n",
       " -0.14101519723664893,\n",
       " -1.0,\n",
       " -0.08086768401044628,\n",
       " 0.021088417882098007,\n",
       " 0.12865255562093295,\n",
       " -0.3164736731583419,\n",
       " 0.050013484545277716,\n",
       " 0.017847943979707234,\n",
       " -0.24850393493558656]"
      ]
     },
     "execution_count": 185,
     "metadata": {},
     "output_type": "execute_result"
    }
   ],
   "source": [
    "finalWeights[0]"
   ]
  },
  {
   "cell_type": "code",
   "execution_count": 51,
   "id": "f825ccd2",
   "metadata": {},
   "outputs": [
    {
     "data": {
      "text/plain": [
       "[['dreamfiles/dream_400_one_layer2_888/dream0_0.csv'],\n",
       " ['dreamfiles/dream_400_one_layer2_888/dream0_2.csv'],\n",
       " ['dreamfiles/dream_400_one_layer2_888/dream0_3.csv'],\n",
       " ['dreamfiles/dream_400_one_layer2_888/dream0_4.csv'],\n",
       " ['dreamfiles/dream_400_one_layer2_888/dream0_5.csv'],\n",
       " ['dreamfiles/dream_400_one_layer2_888/dream0_6.csv'],\n",
       " ['dreamfiles/dream_400_one_layer2_888/dream0_7.csv'],\n",
       " ['dreamfiles/dream_400_one_layer2_888/dream0_8.csv'],\n",
       " ['dreamfiles/dream_400_one_layer2_888/dream0_9.csv'],\n",
       " ['dreamfiles/dream_400_one_layer2_888/dream0_10.csv'],\n",
       " ['dreamfiles/dream_400_one_layer2_888/dream0_11.csv'],\n",
       " ['dreamfiles/dream_400_one_layer2_888/dream0_12.csv'],\n",
       " ['dreamfiles/dream_400_one_layer2_888/dream0_13.csv'],\n",
       " ['dreamfiles/dream_400_one_layer2_888/dream0_14.csv'],\n",
       " ['dreamfiles/dream_400_one_layer2_888/dream0_15.csv'],\n",
       " ['dreamfiles/dream_400_one_layer2_888/dream0_16.csv'],\n",
       " ['dreamfiles/dream_400_one_layer2_888/dream0_17.csv'],\n",
       " ['dreamfiles/dream_400_one_layer2_888/dream0_18.csv'],\n",
       " ['dreamfiles/dream_400_one_layer2_888/dream0_19.csv'],\n",
       " ['dreamfiles/dream_400_one_layer2_888/dream0_20.csv'],\n",
       " ['dreamfiles/dream_400_one_layer2_888/dream0_21.csv'],\n",
       " ['dreamfiles/dream_400_one_layer2_888/dream0_22.csv'],\n",
       " ['dreamfiles/dream_400_one_layer2_888/dream0_23.csv'],\n",
       " ['dreamfiles/dream_400_one_layer2_888/dream0_24.csv'],\n",
       " ['dreamfiles/dream_400_one_layer2_888/dream0_25.csv'],\n",
       " ['dreamfiles/dream_400_one_layer2_888/dream0_26.csv'],\n",
       " ['dreamfiles/dream_400_one_layer2_888/dream0_27.csv'],\n",
       " ['dreamfiles/dream_400_one_layer2_888/dream0_28.csv'],\n",
       " ['dreamfiles/dream_400_one_layer2_888/dream0_29.csv'],\n",
       " ['dreamfiles/dream_400_one_layer2_888/dream0_30.csv'],\n",
       " ['dreamfiles/dream_400_one_layer2_888/dream0_31.csv'],\n",
       " ['dreamfiles/dream_400_one_layer2_888/dream0_32.csv'],\n",
       " ['dreamfiles/dream_400_one_layer2_888/dream0_33.csv'],\n",
       " ['dreamfiles/dream_400_one_layer2_888/dream0_34.csv'],\n",
       " ['dreamfiles/dream_400_one_layer2_888/dream0_35.csv'],\n",
       " ['dreamfiles/dream_400_one_layer2_888/dream0_36.csv'],\n",
       " ['dreamfiles/dream_400_one_layer2_888/dream0_37.csv'],\n",
       " ['dreamfiles/dream_400_one_layer2_888/dream0_38.csv'],\n",
       " ['dreamfiles/dream_400_one_layer2_888/dream0_39.csv'],\n",
       " ['dreamfiles/dream_400_one_layer2_888/dream0_40.csv'],\n",
       " ['dreamfiles/dream_400_one_layer2_888/dream0_41.csv'],\n",
       " ['dreamfiles/dream_400_one_layer2_888/dream0_42.csv'],\n",
       " ['dreamfiles/dream_400_one_layer2_888/dream0_43.csv'],\n",
       " ['dreamfiles/dream_400_one_layer2_888/dream0_44.csv'],\n",
       " ['dreamfiles/dream_400_one_layer2_888/dream0_45.csv'],\n",
       " ['dreamfiles/dream_400_one_layer2_888/dream0_46.csv'],\n",
       " ['dreamfiles/dream_400_one_layer2_888/dream0_47.csv'],\n",
       " ['dreamfiles/dream_400_one_layer2_888/dream0_48.csv'],\n",
       " ['dreamfiles/dream_400_one_layer2_888/dream0_49.csv'],\n",
       " ['dreamfiles/dream_400_one_layer2_888/dream0_50.csv'],\n",
       " ['dreamfiles/dream_400_one_layer2_888/dream0_51.csv'],\n",
       " ['dreamfiles/dream_400_one_layer2_888/dream0_52.csv'],\n",
       " ['dreamfiles/dream_400_one_layer2_888/dream0_53.csv'],\n",
       " ['dreamfiles/dream_400_one_layer2_888/dream0_54.csv'],\n",
       " ['dreamfiles/dream_400_one_layer2_888/dream0_55.csv'],\n",
       " ['dreamfiles/dream_400_one_layer2_888/dream0_56.csv'],\n",
       " ['dreamfiles/dream_400_one_layer2_888/dream0_57.csv'],\n",
       " ['dreamfiles/dream_400_one_layer2_888/dream0_58.csv'],\n",
       " ['dreamfiles/dream_400_one_layer2_888/dream0_59.csv'],\n",
       " ['dreamfiles/dream_400_one_layer2_888/dream0_60.csv'],\n",
       " ['dreamfiles/dream_400_one_layer2_888/dream0_61.csv'],\n",
       " ['dreamfiles/dream_400_one_layer2_888/dream0_62.csv'],\n",
       " ['dreamfiles/dream_400_one_layer2_888/dream0_63.csv'],\n",
       " ['dreamfiles/dream_400_one_layer2_888/dream0_64.csv'],\n",
       " ['dreamfiles/dream_400_one_layer2_888/dream0_65.csv'],\n",
       " ['dreamfiles/dream_400_one_layer2_888/dream0_66.csv'],\n",
       " ['dreamfiles/dream_400_one_layer2_888/dream0_67.csv'],\n",
       " ['dreamfiles/dream_400_one_layer2_888/dream0_68.csv'],\n",
       " ['dreamfiles/dream_400_one_layer2_888/dream0_69.csv'],\n",
       " ['dreamfiles/dream_400_one_layer2_888/dream0_70.csv'],\n",
       " ['dreamfiles/dream_400_one_layer2_888/dream0_71.csv'],\n",
       " ['dreamfiles/dream_400_one_layer2_888/dream0_72.csv'],\n",
       " ['dreamfiles/dream_400_one_layer2_888/dream0_73.csv'],\n",
       " ['dreamfiles/dream_400_one_layer2_888/dream0_74.csv'],\n",
       " ['dreamfiles/dream_400_one_layer2_888/dream0_75.csv'],\n",
       " ['dreamfiles/dream_400_one_layer2_888/dream0_76.csv'],\n",
       " ['dreamfiles/dream_400_one_layer2_888/dream0_77.csv'],\n",
       " ['dreamfiles/dream_400_one_layer2_888/dream0_78.csv'],\n",
       " ['dreamfiles/dream_400_one_layer2_888/dream0_79.csv'],\n",
       " ['dreamfiles/dream_400_one_layer2_888/dream0_80.csv'],\n",
       " ['dreamfiles/dream_400_one_layer2_888/dream0_81.csv'],\n",
       " ['dreamfiles/dream_400_one_layer2_888/dream0_82.csv'],\n",
       " ['dreamfiles/dream_400_one_layer2_888/dream0_83.csv'],\n",
       " ['dreamfiles/dream_400_one_layer2_888/dream0_84.csv'],\n",
       " ['dreamfiles/dream_400_one_layer2_888/dream0_85.csv'],\n",
       " ['dreamfiles/dream_400_one_layer2_888/dream0_86.csv'],\n",
       " ['dreamfiles/dream_400_one_layer2_888/dream0_87.csv'],\n",
       " ['dreamfiles/dream_400_one_layer2_888/dream0_88.csv'],\n",
       " ['dreamfiles/dream_400_one_layer2_888/dream0_89.csv'],\n",
       " ['dreamfiles/dream_400_one_layer2_888/dream0_90.csv'],\n",
       " ['dreamfiles/dream_400_one_layer2_888/dream0_91.csv'],\n",
       " ['dreamfiles/dream_400_one_layer2_888/dream0_92.csv'],\n",
       " ['dreamfiles/dream_400_one_layer2_888/dream0_93.csv'],\n",
       " ['dreamfiles/dream_400_one_layer2_888/dream0_94.csv'],\n",
       " ['dreamfiles/dream_400_one_layer2_888/dream0_95.csv'],\n",
       " ['dreamfiles/dream_400_one_layer2_888/dream0_96.csv'],\n",
       " ['dreamfiles/dream_400_one_layer2_888/dream0_97.csv'],\n",
       " ['dreamfiles/dream_400_one_layer2_888/dream0_98.csv'],\n",
       " ['dreamfiles/dream_400_one_layer2_888/dream0_99.csv'],\n",
       " ['dreamfiles/dream_400_one_layer2_888/dream0_100.csv'],\n",
       " ['dreamfiles/dream_400_one_layer2_888/dream0_101.csv'],\n",
       " ['dreamfiles/dream_400_one_layer2_888/dream0_102.csv'],\n",
       " ['dreamfiles/dream_400_one_layer2_888/dream0_103.csv'],\n",
       " ['dreamfiles/dream_400_one_layer2_888/dream0_104.csv'],\n",
       " ['dreamfiles/dream_400_one_layer2_888/dream0_105.csv'],\n",
       " ['dreamfiles/dream_400_one_layer2_888/dream0_106.csv'],\n",
       " ['dreamfiles/dream_400_one_layer2_888/dream0_107.csv'],\n",
       " ['dreamfiles/dream_400_one_layer2_888/dream0_108.csv'],\n",
       " ['dreamfiles/dream_400_one_layer2_888/dream0_109.csv'],\n",
       " ['dreamfiles/dream_400_one_layer2_888/dream0_110.csv'],\n",
       " ['dreamfiles/dream_400_one_layer2_888/dream0_111.csv'],\n",
       " ['dreamfiles/dream_400_one_layer2_888/dream0_112.csv'],\n",
       " ['dreamfiles/dream_400_one_layer2_888/dream0_113.csv'],\n",
       " ['dreamfiles/dream_400_one_layer2_888/dream0_114.csv'],\n",
       " ['dreamfiles/dream_400_one_layer2_888/dream0_115.csv'],\n",
       " ['dreamfiles/dream_400_one_layer2_888/dream0_116.csv'],\n",
       " ['dreamfiles/dream_400_one_layer2_888/dream0_117.csv'],\n",
       " ['dreamfiles/dream_400_one_layer2_888/dream0_118.csv'],\n",
       " ['dreamfiles/dream_400_one_layer2_888/dream0_119.csv'],\n",
       " ['dreamfiles/dream_400_one_layer2_888/dream0_120.csv'],\n",
       " ['dreamfiles/dream_400_one_layer2_888/dream0_121.csv'],\n",
       " ['dreamfiles/dream_400_one_layer2_888/dream0_122.csv'],\n",
       " ['dreamfiles/dream_400_one_layer2_888/dream0_123.csv'],\n",
       " ['dreamfiles/dream_400_one_layer2_888/dream0_124.csv'],\n",
       " ['dreamfiles/dream_400_one_layer2_888/dream0_125.csv'],\n",
       " ['dreamfiles/dream_400_one_layer2_888/dream0_126.csv'],\n",
       " ['dreamfiles/dream_400_one_layer2_888/dream0_127.csv'],\n",
       " ['dreamfiles/dream_400_one_layer2_888/dream0_128.csv'],\n",
       " ['dreamfiles/dream_400_one_layer2_888/dream0_129.csv'],\n",
       " ['dreamfiles/dream_400_one_layer2_888/dream0_130.csv'],\n",
       " ['dreamfiles/dream_400_one_layer2_888/dream0_131.csv'],\n",
       " ['dreamfiles/dream_400_one_layer2_888/dream0_132.csv'],\n",
       " ['dreamfiles/dream_400_one_layer2_888/dream0_133.csv'],\n",
       " ['dreamfiles/dream_400_one_layer2_888/dream0_134.csv'],\n",
       " ['dreamfiles/dream_400_one_layer2_888/dream0_135.csv'],\n",
       " ['dreamfiles/dream_400_one_layer2_888/dream0_136.csv'],\n",
       " ['dreamfiles/dream_400_one_layer2_888/dream0_137.csv'],\n",
       " ['dreamfiles/dream_400_one_layer2_888/dream0_138.csv'],\n",
       " ['dreamfiles/dream_400_one_layer2_888/dream0_139.csv'],\n",
       " ['dreamfiles/dream_400_one_layer2_888/dream0_140.csv'],\n",
       " ['dreamfiles/dream_400_one_layer2_888/dream0_141.csv'],\n",
       " ['dreamfiles/dream_400_one_layer2_888/dream0_142.csv'],\n",
       " ['dreamfiles/dream_400_one_layer2_888/dream0_143.csv'],\n",
       " ['dreamfiles/dream_400_one_layer2_888/dream0_144.csv'],\n",
       " ['dreamfiles/dream_400_one_layer2_888/dream0_145.csv'],\n",
       " ['dreamfiles/dream_400_one_layer2_888/dream0_146.csv'],\n",
       " ['dreamfiles/dream_400_one_layer2_888/dream0_147.csv'],\n",
       " ['dreamfiles/dream_400_one_layer2_888/dream0_148.csv'],\n",
       " ['dreamfiles/dream_400_one_layer2_888/dream0_149.csv'],\n",
       " ['dreamfiles/dream_400_one_layer2_888/dream0_150.csv'],\n",
       " ['dreamfiles/dream_400_one_layer2_888/dream0_151.csv'],\n",
       " ['dreamfiles/dream_400_one_layer2_888/dream0_152.csv'],\n",
       " ['dreamfiles/dream_400_one_layer2_888/dream0_153.csv'],\n",
       " ['dreamfiles/dream_400_one_layer2_888/dream0_154.csv'],\n",
       " ['dreamfiles/dream_400_one_layer2_888/dream0_155.csv'],\n",
       " ['dreamfiles/dream_400_one_layer2_888/dream0_156.csv'],\n",
       " ['dreamfiles/dream_400_one_layer2_888/dream0_157.csv'],\n",
       " ['dreamfiles/dream_400_one_layer2_888/dream0_158.csv'],\n",
       " ['dreamfiles/dream_400_one_layer2_888/dream0_159.csv'],\n",
       " ['dreamfiles/dream_400_one_layer2_888/dream0_160.csv'],\n",
       " ['dreamfiles/dream_400_one_layer2_888/dream0_161.csv'],\n",
       " ['dreamfiles/dream_400_one_layer2_888/dream0_162.csv'],\n",
       " ['dreamfiles/dream_400_one_layer2_888/dream0_163.csv'],\n",
       " ['dreamfiles/dream_400_one_layer2_888/dream0_164.csv'],\n",
       " ['dreamfiles/dream_400_one_layer2_888/dream0_165.csv'],\n",
       " ['dreamfiles/dream_400_one_layer2_888/dream0_166.csv'],\n",
       " ['dreamfiles/dream_400_one_layer2_888/dream0_167.csv'],\n",
       " ['dreamfiles/dream_400_one_layer2_888/dream0_168.csv'],\n",
       " ['dreamfiles/dream_400_one_layer2_888/dream0_169.csv'],\n",
       " ['dreamfiles/dream_400_one_layer2_888/dream0_170.csv'],\n",
       " ['dreamfiles/dream_400_one_layer2_888/dream0_171.csv'],\n",
       " ['dreamfiles/dream_400_one_layer2_888/dream0_172.csv'],\n",
       " ['dreamfiles/dream_400_one_layer2_888/dream0_173.csv'],\n",
       " ['dreamfiles/dream_400_one_layer2_888/dream0_174.csv'],\n",
       " ['dreamfiles/dream_400_one_layer2_888/dream0_175.csv'],\n",
       " ['dreamfiles/dream_400_one_layer2_888/dream0_176.csv'],\n",
       " ['dreamfiles/dream_400_one_layer2_888/dream0_177.csv'],\n",
       " ['dreamfiles/dream_400_one_layer2_888/dream0_178.csv'],\n",
       " ['dreamfiles/dream_400_one_layer2_888/dream0_179.csv'],\n",
       " ['dreamfiles/dream_400_one_layer2_888/dream0_180.csv'],\n",
       " ['dreamfiles/dream_400_one_layer2_888/dream0_181.csv'],\n",
       " ['dreamfiles/dream_400_one_layer2_888/dream0_182.csv'],\n",
       " ['dreamfiles/dream_400_one_layer2_888/dream0_183.csv'],\n",
       " ['dreamfiles/dream_400_one_layer2_888/dream0_184.csv'],\n",
       " ['dreamfiles/dream_400_one_layer2_888/dream0_185.csv'],\n",
       " ['dreamfiles/dream_400_one_layer2_888/dream0_186.csv'],\n",
       " ['dreamfiles/dream_400_one_layer2_888/dream0_187.csv'],\n",
       " ['dreamfiles/dream_400_one_layer2_888/dream0_188.csv'],\n",
       " ['dreamfiles/dream_400_one_layer2_888/dream0_189.csv'],\n",
       " ['dreamfiles/dream_400_one_layer2_888/dream0_190.csv'],\n",
       " ['dreamfiles/dream_400_one_layer2_888/dream0_191.csv'],\n",
       " ['dreamfiles/dream_400_one_layer2_888/dream0_192.csv'],\n",
       " ['dreamfiles/dream_400_one_layer2_888/dream0_193.csv'],\n",
       " ['dreamfiles/dream_400_one_layer2_888/dream0_194.csv'],\n",
       " ['dreamfiles/dream_400_one_layer2_888/dream0_195.csv'],\n",
       " ['dreamfiles/dream_400_one_layer2_888/dream0_196.csv'],\n",
       " ['dreamfiles/dream_400_one_layer2_888/dream0_197.csv'],\n",
       " ['dreamfiles/dream_400_one_layer2_888/dream0_198.csv'],\n",
       " ['dreamfiles/dream_400_one_layer2_888/dream0_199.csv'],\n",
       " ['dreamfiles/dream_400_one_layer2_888/dream0_200.csv'],\n",
       " ['dreamfiles/dream_400_one_layer2_888/dream0_201.csv'],\n",
       " ['dreamfiles/dream_400_one_layer2_888/dream0_202.csv'],\n",
       " ['dreamfiles/dream_400_one_layer2_888/dream0_203.csv'],\n",
       " ['dreamfiles/dream_400_one_layer2_888/dream0_204.csv'],\n",
       " ['dreamfiles/dream_400_one_layer2_888/dream0_205.csv'],\n",
       " ['dreamfiles/dream_400_one_layer2_888/dream0_206.csv'],\n",
       " ['dreamfiles/dream_400_one_layer2_888/dream0_207.csv'],\n",
       " ['dreamfiles/dream_400_one_layer2_888/dream0_208.csv'],\n",
       " ['dreamfiles/dream_400_one_layer2_888/dream0_209.csv'],\n",
       " ['dreamfiles/dream_400_one_layer2_888/dream0_210.csv'],\n",
       " ['dreamfiles/dream_400_one_layer2_888/dream0_211.csv'],\n",
       " ['dreamfiles/dream_400_one_layer2_888/dream0_212.csv'],\n",
       " ['dreamfiles/dream_400_one_layer2_888/dream0_213.csv'],\n",
       " ['dreamfiles/dream_400_one_layer2_888/dream0_214.csv'],\n",
       " ['dreamfiles/dream_400_one_layer2_888/dream0_215.csv'],\n",
       " ['dreamfiles/dream_400_one_layer2_888/dream0_216.csv'],\n",
       " ['dreamfiles/dream_400_one_layer2_888/dream0_217.csv'],\n",
       " ['dreamfiles/dream_400_one_layer2_888/dream0_218.csv'],\n",
       " ['dreamfiles/dream_400_one_layer2_888/dream0_219.csv'],\n",
       " ['dreamfiles/dream_400_one_layer2_888/dream0_220.csv'],\n",
       " ['dreamfiles/dream_400_one_layer2_888/dream0_221.csv'],\n",
       " ['dreamfiles/dream_400_one_layer2_888/dream0_222.csv'],\n",
       " ['dreamfiles/dream_400_one_layer2_888/dream0_223.csv'],\n",
       " ['dreamfiles/dream_400_one_layer2_888/dream0_224.csv'],\n",
       " ['dreamfiles/dream_400_one_layer2_888/dream0_225.csv'],\n",
       " ['dreamfiles/dream_400_one_layer2_888/dream0_226.csv'],\n",
       " ['dreamfiles/dream_400_one_layer2_888/dream0_227.csv'],\n",
       " ['dreamfiles/dream_400_one_layer2_888/dream0_228.csv'],\n",
       " ['dreamfiles/dream_400_one_layer2_888/dream0_229.csv'],\n",
       " ['dreamfiles/dream_400_one_layer2_888/dream0_230.csv'],\n",
       " ['dreamfiles/dream_400_one_layer2_888/dream0_231.csv'],\n",
       " ['dreamfiles/dream_400_one_layer2_888/dream0_232.csv'],\n",
       " ['dreamfiles/dream_400_one_layer2_888/dream0_233.csv'],\n",
       " ['dreamfiles/dream_400_one_layer2_888/dream0_234.csv'],\n",
       " ['dreamfiles/dream_400_one_layer2_888/dream0_235.csv'],\n",
       " ['dreamfiles/dream_400_one_layer2_888/dream0_236.csv'],\n",
       " ['dreamfiles/dream_400_one_layer2_888/dream0_237.csv'],\n",
       " ['dreamfiles/dream_400_one_layer2_888/dream0_238.csv'],\n",
       " ['dreamfiles/dream_400_one_layer2_888/dream0_239.csv'],\n",
       " ['dreamfiles/dream_400_one_layer2_888/dream0_240.csv'],\n",
       " ['dreamfiles/dream_400_one_layer2_888/dream0_241.csv'],\n",
       " ['dreamfiles/dream_400_one_layer2_888/dream0_242.csv'],\n",
       " ['dreamfiles/dream_400_one_layer2_888/dream0_243.csv'],\n",
       " ['dreamfiles/dream_400_one_layer2_888/dream0_244.csv'],\n",
       " ['dreamfiles/dream_400_one_layer2_888/dream0_245.csv'],\n",
       " ['dreamfiles/dream_400_one_layer2_888/dream0_246.csv'],\n",
       " ['dreamfiles/dream_400_one_layer2_888/dream0_247.csv'],\n",
       " ['dreamfiles/dream_400_one_layer2_888/dream0_248.csv'],\n",
       " ['dreamfiles/dream_400_one_layer2_888/dream0_249.csv'],\n",
       " ['dreamfiles/dream_400_one_layer2_888/dream0_250.csv'],\n",
       " ['dreamfiles/dream_400_one_layer2_888/dream0_251.csv'],\n",
       " ['dreamfiles/dream_400_one_layer2_888/dream0_252.csv'],\n",
       " ['dreamfiles/dream_400_one_layer2_888/dream0_253.csv'],\n",
       " ['dreamfiles/dream_400_one_layer2_888/dream0_254.csv'],\n",
       " ['dreamfiles/dream_400_one_layer2_888/dream0_255.csv'],\n",
       " ['dreamfiles/dream_400_one_layer2_888/dream0_256.csv'],\n",
       " ['dreamfiles/dream_400_one_layer2_888/dream0_257.csv'],\n",
       " ['dreamfiles/dream_400_one_layer2_888/dream0_258.csv'],\n",
       " ['dreamfiles/dream_400_one_layer2_888/dream0_259.csv'],\n",
       " ['dreamfiles/dream_400_one_layer2_888/dream0_260.csv'],\n",
       " ['dreamfiles/dream_400_one_layer2_888/dream0_261.csv'],\n",
       " ['dreamfiles/dream_400_one_layer2_888/dream0_262.csv'],\n",
       " ['dreamfiles/dream_400_one_layer2_888/dream0_263.csv'],\n",
       " ['dreamfiles/dream_400_one_layer2_888/dream0_264.csv'],\n",
       " ['dreamfiles/dream_400_one_layer2_888/dream0_265.csv'],\n",
       " ['dreamfiles/dream_400_one_layer2_888/dream0_266.csv'],\n",
       " ['dreamfiles/dream_400_one_layer2_888/dream0_267.csv'],\n",
       " ['dreamfiles/dream_400_one_layer2_888/dream0_268.csv'],\n",
       " ['dreamfiles/dream_400_one_layer2_888/dream0_269.csv'],\n",
       " ['dreamfiles/dream_400_one_layer2_888/dream0_270.csv'],\n",
       " ['dreamfiles/dream_400_one_layer2_888/dream0_271.csv'],\n",
       " ['dreamfiles/dream_400_one_layer2_888/dream0_272.csv'],\n",
       " ['dreamfiles/dream_400_one_layer2_888/dream0_273.csv'],\n",
       " ['dreamfiles/dream_400_one_layer2_888/dream0_274.csv'],\n",
       " ['dreamfiles/dream_400_one_layer2_888/dream0_275.csv'],\n",
       " ['dreamfiles/dream_400_one_layer2_888/dream0_276.csv'],\n",
       " ['dreamfiles/dream_400_one_layer2_888/dream0_277.csv'],\n",
       " ['dreamfiles/dream_400_one_layer2_888/dream0_278.csv'],\n",
       " ['dreamfiles/dream_400_one_layer2_888/dream0_279.csv'],\n",
       " ['dreamfiles/dream_400_one_layer2_888/dream0_280.csv'],\n",
       " ['dreamfiles/dream_400_one_layer2_888/dream0_281.csv'],\n",
       " ['dreamfiles/dream_400_one_layer2_888/dream0_282.csv'],\n",
       " ['dreamfiles/dream_400_one_layer2_888/dream0_283.csv'],\n",
       " ['dreamfiles/dream_400_one_layer2_888/dream0_284.csv'],\n",
       " ['dreamfiles/dream_400_one_layer2_888/dream0_285.csv'],\n",
       " ['dreamfiles/dream_400_one_layer2_888/dream0_286.csv'],\n",
       " ['dreamfiles/dream_400_one_layer2_888/dream0_287.csv'],\n",
       " ['dreamfiles/dream_400_one_layer2_888/dream0_288.csv'],\n",
       " ['dreamfiles/dream_400_one_layer2_888/dream0_289.csv'],\n",
       " ['dreamfiles/dream_400_one_layer2_888/dream0_290.csv'],\n",
       " ['dreamfiles/dream_400_one_layer2_888/dream0_291.csv'],\n",
       " ['dreamfiles/dream_400_one_layer2_888/dream0_292.csv'],\n",
       " ['dreamfiles/dream_400_one_layer2_888/dream0_293.csv'],\n",
       " ['dreamfiles/dream_400_one_layer2_888/dream0_294.csv'],\n",
       " ['dreamfiles/dream_400_one_layer2_888/dream0_295.csv'],\n",
       " ['dreamfiles/dream_400_one_layer2_888/dream0_296.csv'],\n",
       " ['dreamfiles/dream_400_one_layer2_888/dream0_297.csv'],\n",
       " ['dreamfiles/dream_400_one_layer2_888/dream0_298.csv'],\n",
       " ['dreamfiles/dream_400_one_layer2_888/dream0_299.csv'],\n",
       " ['dreamfiles/dream_400_one_layer2_888/dream0_300.csv'],\n",
       " ['dreamfiles/dream_400_one_layer2_888/dream0_301.csv'],\n",
       " ['dreamfiles/dream_400_one_layer2_888/dream0_302.csv'],\n",
       " ['dreamfiles/dream_400_one_layer2_888/dream0_303.csv'],\n",
       " ['dreamfiles/dream_400_one_layer2_888/dream0_304.csv'],\n",
       " ['dreamfiles/dream_400_one_layer2_888/dream0_305.csv'],\n",
       " ['dreamfiles/dream_400_one_layer2_888/dream0_306.csv'],\n",
       " ['dreamfiles/dream_400_one_layer2_888/dream0_307.csv'],\n",
       " ['dreamfiles/dream_400_one_layer2_888/dream0_308.csv'],\n",
       " ['dreamfiles/dream_400_one_layer2_888/dream0_309.csv'],\n",
       " ['dreamfiles/dream_400_one_layer2_888/dream0_310.csv'],\n",
       " ['dreamfiles/dream_400_one_layer2_888/dream0_311.csv'],\n",
       " ['dreamfiles/dream_400_one_layer2_888/dream0_312.csv'],\n",
       " ['dreamfiles/dream_400_one_layer2_888/dream0_313.csv'],\n",
       " ['dreamfiles/dream_400_one_layer2_888/dream0_314.csv'],\n",
       " ['dreamfiles/dream_400_one_layer2_888/dream0_315.csv'],\n",
       " ['dreamfiles/dream_400_one_layer2_888/dream0_316.csv'],\n",
       " ['dreamfiles/dream_400_one_layer2_888/dream0_317.csv'],\n",
       " ['dreamfiles/dream_400_one_layer2_888/dream0_318.csv'],\n",
       " ['dreamfiles/dream_400_one_layer2_888/dream0_319.csv'],\n",
       " ['dreamfiles/dream_400_one_layer2_888/dream0_320.csv'],\n",
       " ['dreamfiles/dream_400_one_layer2_888/dream0_321.csv'],\n",
       " ['dreamfiles/dream_400_one_layer2_888/dream0_322.csv'],\n",
       " ['dreamfiles/dream_400_one_layer2_888/dream0_323.csv'],\n",
       " ['dreamfiles/dream_400_one_layer2_888/dream0_324.csv'],\n",
       " ['dreamfiles/dream_400_one_layer2_888/dream0_325.csv'],\n",
       " ['dreamfiles/dream_400_one_layer2_888/dream0_326.csv'],\n",
       " ['dreamfiles/dream_400_one_layer2_888/dream0_327.csv'],\n",
       " ['dreamfiles/dream_400_one_layer2_888/dream0_328.csv'],\n",
       " ['dreamfiles/dream_400_one_layer2_888/dream0_329.csv'],\n",
       " ['dreamfiles/dream_400_one_layer2_888/dream0_330.csv'],\n",
       " ['dreamfiles/dream_400_one_layer2_888/dream0_331.csv'],\n",
       " ['dreamfiles/dream_400_one_layer2_888/dream0_332.csv'],\n",
       " ['dreamfiles/dream_400_one_layer2_888/dream0_333.csv'],\n",
       " ['dreamfiles/dream_400_one_layer2_888/dream0_334.csv'],\n",
       " ['dreamfiles/dream_400_one_layer2_888/dream0_335.csv'],\n",
       " ['dreamfiles/dream_400_one_layer2_888/dream0_336.csv'],\n",
       " ['dreamfiles/dream_400_one_layer2_888/dream0_337.csv'],\n",
       " ['dreamfiles/dream_400_one_layer2_888/dream0_338.csv'],\n",
       " ['dreamfiles/dream_400_one_layer2_888/dream0_339.csv'],\n",
       " ['dreamfiles/dream_400_one_layer2_888/dream0_340.csv'],\n",
       " ['dreamfiles/dream_400_one_layer2_888/dream0_341.csv'],\n",
       " ['dreamfiles/dream_400_one_layer2_888/dream0_342.csv'],\n",
       " ['dreamfiles/dream_400_one_layer2_888/dream0_343.csv'],\n",
       " ['dreamfiles/dream_400_one_layer2_888/dream0_344.csv'],\n",
       " ['dreamfiles/dream_400_one_layer2_888/dream0_345.csv'],\n",
       " ['dreamfiles/dream_400_one_layer2_888/dream0_346.csv'],\n",
       " ['dreamfiles/dream_400_one_layer2_888/dream0_347.csv'],\n",
       " ['dreamfiles/dream_400_one_layer2_888/dream0_348.csv'],\n",
       " ['dreamfiles/dream_400_one_layer2_888/dream0_349.csv'],\n",
       " ['dreamfiles/dream_400_one_layer2_888/dream0_350.csv'],\n",
       " ['dreamfiles/dream_400_one_layer2_888/dream0_351.csv'],\n",
       " ['dreamfiles/dream_400_one_layer2_888/dream0_352.csv'],\n",
       " ['dreamfiles/dream_400_one_layer2_888/dream0_353.csv'],\n",
       " ['dreamfiles/dream_400_one_layer2_888/dream0_354.csv'],\n",
       " ['dreamfiles/dream_400_one_layer2_888/dream0_355.csv'],\n",
       " ['dreamfiles/dream_400_one_layer2_888/dream0_356.csv'],\n",
       " ['dreamfiles/dream_400_one_layer2_888/dream0_357.csv'],\n",
       " ['dreamfiles/dream_400_one_layer2_888/dream0_358.csv'],\n",
       " ['dreamfiles/dream_400_one_layer2_888/dream0_359.csv'],\n",
       " ['dreamfiles/dream_400_one_layer2_888/dream0_360.csv'],\n",
       " ['dreamfiles/dream_400_one_layer2_888/dream0_361.csv'],\n",
       " ['dreamfiles/dream_400_one_layer2_888/dream0_362.csv'],\n",
       " ['dreamfiles/dream_400_one_layer2_888/dream0_363.csv'],\n",
       " ['dreamfiles/dream_400_one_layer2_888/dream0_364.csv'],\n",
       " ['dreamfiles/dream_400_one_layer2_888/dream0_365.csv'],\n",
       " ['dreamfiles/dream_400_one_layer2_888/dream0_366.csv'],\n",
       " ['dreamfiles/dream_400_one_layer2_888/dream0_367.csv'],\n",
       " ['dreamfiles/dream_400_one_layer2_888/dream0_368.csv'],\n",
       " ['dreamfiles/dream_400_one_layer2_888/dream0_369.csv'],\n",
       " ['dreamfiles/dream_400_one_layer2_888/dream0_370.csv'],\n",
       " ['dreamfiles/dream_400_one_layer2_888/dream0_371.csv'],\n",
       " ['dreamfiles/dream_400_one_layer2_888/dream0_372.csv'],\n",
       " ['dreamfiles/dream_400_one_layer2_888/dream0_373.csv'],\n",
       " ['dreamfiles/dream_400_one_layer2_888/dream0_374.csv'],\n",
       " ['dreamfiles/dream_400_one_layer2_888/dream0_375.csv'],\n",
       " ['dreamfiles/dream_400_one_layer2_888/dream0_376.csv'],\n",
       " ['dreamfiles/dream_400_one_layer2_888/dream0_377.csv'],\n",
       " ['dreamfiles/dream_400_one_layer2_888/dream0_378.csv'],\n",
       " ['dreamfiles/dream_400_one_layer2_888/dream0_379.csv'],\n",
       " ['dreamfiles/dream_400_one_layer2_888/dream0_380.csv'],\n",
       " ['dreamfiles/dream_400_one_layer2_888/dream0_381.csv'],\n",
       " ['dreamfiles/dream_400_one_layer2_888/dream0_382.csv'],\n",
       " ['dreamfiles/dream_400_one_layer2_888/dream0_383.csv'],\n",
       " ['dreamfiles/dream_400_one_layer2_888/dream0_384.csv'],\n",
       " ['dreamfiles/dream_400_one_layer2_888/dream0_385.csv'],\n",
       " ['dreamfiles/dream_400_one_layer2_888/dream0_386.csv'],\n",
       " ['dreamfiles/dream_400_one_layer2_888/dream0_387.csv'],\n",
       " ['dreamfiles/dream_400_one_layer2_888/dream0_388.csv'],\n",
       " ['dreamfiles/dream_400_one_layer2_888/dream0_389.csv'],\n",
       " ['dreamfiles/dream_400_one_layer2_888/dream0_390.csv'],\n",
       " ['dreamfiles/dream_400_one_layer2_888/dream0_391.csv'],\n",
       " ['dreamfiles/dream_400_one_layer2_888/dream0_392.csv'],\n",
       " ['dreamfiles/dream_400_one_layer2_888/dream0_393.csv'],\n",
       " ['dreamfiles/dream_400_one_layer2_888/dream0_394.csv'],\n",
       " ['dreamfiles/dream_400_one_layer2_888/dream0_395.csv'],\n",
       " ['dreamfiles/dream_400_one_layer2_888/dream0_396.csv'],\n",
       " ['dreamfiles/dream_400_one_layer2_888/dream0_397.csv'],\n",
       " ['dreamfiles/dream_400_one_layer2_888/dream0_398.csv']]"
      ]
     },
     "execution_count": 51,
     "metadata": {},
     "output_type": "execute_result"
    }
   ],
   "source": [
    "res"
   ]
  },
  {
   "cell_type": "markdown",
   "id": "4ddf440a",
   "metadata": {},
   "source": [
    "# Let's make a crazy visualization out of the neural networks (based on this paper)\n",
    "\n",
    "\n",
    "https://kindxiaoming.github.io/pdfs/BIMT.pdf\n",
    "\n",
    "\n",
    "![image.png](attachment:image.png)"
   ]
  },
  {
   "cell_type": "code",
   "execution_count": 270,
   "id": "186ee826",
   "metadata": {},
   "outputs": [
    {
     "ename": "NameError",
     "evalue": "name 'model' is not defined",
     "output_type": "error",
     "traceback": [
      "\u001b[1;31m---------------------------------------------------------------------------\u001b[0m",
      "\u001b[1;31mNameError\u001b[0m                                 Traceback (most recent call last)",
      "\u001b[1;32m~\\AppData\\Local\\Temp/ipykernel_9272/4092700588.py\u001b[0m in \u001b[0;36m<module>\u001b[1;34m\u001b[0m\n\u001b[0;32m     45\u001b[0m     \u001b[1;32mfor\u001b[0m \u001b[0mii\u001b[0m\u001b[1;33m,\u001b[0m \u001b[0mneu\u001b[0m \u001b[1;32min\u001b[0m \u001b[0menumerate\u001b[0m\u001b[1;33m(\u001b[0m\u001b[0mneuList\u001b[0m\u001b[1;33m)\u001b[0m\u001b[1;33m:\u001b[0m\u001b[1;33m\u001b[0m\u001b[1;33m\u001b[0m\u001b[0m\n\u001b[0;32m     46\u001b[0m         \u001b[0mx\u001b[0m\u001b[1;33m,\u001b[0m\u001b[0my\u001b[0m \u001b[1;33m=\u001b[0m \u001b[0mcoords\u001b[0m\u001b[1;33m[\u001b[0m\u001b[0mii\u001b[0m\u001b[1;33m]\u001b[0m\u001b[1;33m\u001b[0m\u001b[1;33m\u001b[0m\u001b[0m\n\u001b[1;32m---> 47\u001b[1;33m         \u001b[0mweights\u001b[0m \u001b[1;33m=\u001b[0m \u001b[0mmodel\u001b[0m\u001b[1;33m.\u001b[0m\u001b[0mmynn\u001b[0m\u001b[1;33m[\u001b[0m\u001b[0mlayer\u001b[0m\u001b[1;33m*\u001b[0m\u001b[1;36m2\u001b[0m\u001b[1;33m]\u001b[0m\u001b[1;33m.\u001b[0m\u001b[0mweight\u001b[0m\u001b[1;33m[\u001b[0m\u001b[0mneu\u001b[0m\u001b[1;33m]\u001b[0m\u001b[1;33m\u001b[0m\u001b[1;33m\u001b[0m\u001b[0m\n\u001b[0m\u001b[0;32m     48\u001b[0m         \u001b[0mweights\u001b[0m \u001b[1;33m=\u001b[0m \u001b[0mweights\u001b[0m\u001b[1;33m.\u001b[0m\u001b[0mdetach\u001b[0m\u001b[1;33m(\u001b[0m\u001b[1;33m)\u001b[0m\u001b[1;33m.\u001b[0m\u001b[0mnumpy\u001b[0m\u001b[1;33m(\u001b[0m\u001b[1;33m)\u001b[0m\u001b[1;33m\u001b[0m\u001b[1;33m\u001b[0m\u001b[0m\n\u001b[0;32m     49\u001b[0m         \u001b[0mneurons\u001b[0m\u001b[1;33m.\u001b[0m\u001b[0mappend\u001b[0m\u001b[1;33m(\u001b[0m\u001b[0mneuron\u001b[0m\u001b[1;33m(\u001b[0m\u001b[0mx\u001b[0m\u001b[1;33m,\u001b[0m \u001b[0my\u001b[0m\u001b[1;33m,\u001b[0m \u001b[0mweights\u001b[0m\u001b[1;33m,\u001b[0m \u001b[0mlayer\u001b[0m\u001b[1;33m,\u001b[0m \u001b[0mneuRad\u001b[0m\u001b[1;33m)\u001b[0m\u001b[1;33m)\u001b[0m\u001b[1;33m\u001b[0m\u001b[1;33m\u001b[0m\u001b[0m\n",
      "\u001b[1;31mNameError\u001b[0m: name 'model' is not defined"
     ]
    }
   ],
   "source": [
    "# Let's create a class for a neuron that holds (a) their designated layer and (b) the weights corresponding to previous neurons\n",
    "\n",
    "class neuron:\n",
    "    # x, y - double - coordinates of the neuron along a plane\n",
    "    # WEIGHTS - array - weights of incoming edges of the neuron \n",
    "    # LAYER - int - which layer does the neuron lay in the network?\n",
    "    # rad - double - how big ought the neurons to appear? \n",
    "    def __init__(self, x, y, WEIGHTS, LAYER, RAD):\n",
    "        self.weights=WEIGHTS\n",
    "        self.layer=LAYER\n",
    "        self.x = x\n",
    "        self.y = y\n",
    "        self.rad = RAD\n",
    "    \n",
    "    def draw(self):\n",
    "        point = plt.scatter(self.x, self.y,self.layer)\n",
    "        \n",
    "    def getWeight(self):\n",
    "        return self.weights\n",
    "    \n",
    "    def getLayer(self):\n",
    "        return self.layer\n",
    "    \n",
    "    def setWeights(self, WEIGHTS):\n",
    "        self.weights = WEIGHTS\n",
    "    \n",
    "    def setLayers(self, LAYER):\n",
    "        self.layer = LAYER\n",
    "\n",
    "# Define layer+neuron indices for each layer\n",
    "\n",
    "hiddenLayers = np.arange(1,4)\n",
    "neuronsHidden = np.arange(400)\n",
    "neuronsBN = np.arange(2)\n",
    "neuRad = 0.05\n",
    "\n",
    "totalNeurons = [neuronsHidden, neuronsHidden, neuronsBN]\n",
    "\n",
    "# Now let's create a list of these neurons \n",
    "\n",
    "neurons = []\n",
    "\n",
    "for layer in hiddenLayers:\n",
    "    neuList = totalNeurons[layer-1]\n",
    "    for ii, neu in enumerate(neuList):\n",
    "        x,y = coords[ii]\n",
    "        weights = model.mynn[layer*2].weight[neu]\n",
    "        weights = weights.detach().numpy()\n",
    "        neurons.append(neuron(x, y, weights, layer, neuRad))\n",
    "        \n",
    "fig = plt.figure(figsize=(10,10))\n",
    "ax = plt.axes(projection='3d')"
   ]
  },
  {
   "cell_type": "code",
   "execution_count": 369,
   "id": "6981e6b4",
   "metadata": {
    "scrolled": true
   },
   "outputs": [
    {
     "data": {
      "text/plain": [
       "[array([0.00302541, 0.05348431, 0.48840927]),\n",
       " array([0.10650943, 0.00196674, 0.00216821]),\n",
       " array([0.02765483, 0.00027034, 0.00022219]),\n",
       " array([1.51302420e-01, 9.94109155e-06, 9.86390637e-07]),\n",
       " array([1.07554768e-05, 4.67748433e-02, 3.55294745e-02]),\n",
       " array([3.78646395e-04, 1.69341841e-01, 1.57727043e-04]),\n",
       " array([9.83143024e-05, 2.36428384e-04, 4.93916977e-02]),\n",
       " array([0.00053789, 0.00085596, 0.00021927]),\n",
       " array([0.00066106, 0.0068333 , 0.15382737]),\n",
       " array([0.0232726 , 0.00025128, 0.22406738]),\n",
       " array([6.04265447e-03, 8.27343309e-02, 6.99811830e-05]),\n",
       " array([0.03305999, 0.00304233, 0.00010194]),\n",
       " array([0.00985762, 0.00597608, 0.01119022]),\n",
       " array([0.34703722, 0.02163558, 0.01629985]),\n",
       " array([0.09010708, 0.07235552, 0.01555621]),\n",
       " array([0.49298516, 0.26195314, 0.02265941])]"
      ]
     },
     "execution_count": 369,
     "metadata": {},
     "output_type": "execute_result"
    }
   ],
   "source": [
    "meanPMs[0]"
   ]
  },
  {
   "cell_type": "code",
   "execution_count": 343,
   "id": "d5dbbd23",
   "metadata": {
    "scrolled": true
   },
   "outputs": [
    {
     "data": {
      "text/plain": [
       "['dreamfiles/dream_looong_layer18_888/dream0_441.csv',\n",
       " 'dreamfiles/dream_looong_layer18_888/dream0_442.csv',\n",
       " 'dreamfiles/dream_looong_layer18_888/dream0_443.csv',\n",
       " 'dreamfiles/dream_looong_layer18_888/dream0_444.csv',\n",
       " 'dreamfiles/dream_looong_layer18_888/dream0_445.csv',\n",
       " 'dreamfiles/dream_looong_layer18_888/dream0_446.csv',\n",
       " 'dreamfiles/dream_looong_layer18_888/dream0_447.csv',\n",
       " 'dreamfiles/dream_looong_layer18_888/dream0_448.csv',\n",
       " 'dreamfiles/dream_looong_layer18_888/dream0_449.csv',\n",
       " 'dreamfiles/dream_looong_layer18_888/dream0_450.csv',\n",
       " 'dreamfiles/dream_looong_layer18_888/dream0_451.csv',\n",
       " 'dreamfiles/dream_looong_layer18_888/dream0_452.csv',\n",
       " 'dreamfiles/dream_looong_layer18_888/dream0_453.csv',\n",
       " 'dreamfiles/dream_looong_layer18_888/dream0_454.csv',\n",
       " 'dreamfiles/dream_looong_layer18_888/dream0_455.csv',\n",
       " 'dreamfiles/dream_looong_layer18_888/dream0_456.csv',\n",
       " 'dreamfiles/dream_looong_layer18_888/dream0_457.csv',\n",
       " 'dreamfiles/dream_looong_layer18_888/dream0_458.csv',\n",
       " 'dreamfiles/dream_looong_layer18_888/dream0_459.csv',\n",
       " 'dreamfiles/dream_looong_layer18_888/dream0_460.csv',\n",
       " 'dreamfiles/dream_looong_layer18_888/dream0_461.csv',\n",
       " 'dreamfiles/dream_looong_layer18_888/dream0_462.csv',\n",
       " 'dreamfiles/dream_looong_layer18_888/dream0_463.csv',\n",
       " 'dreamfiles/dream_looong_layer18_888/dream0_464.csv',\n",
       " 'dreamfiles/dream_looong_layer18_888/dream0_465.csv',\n",
       " 'dreamfiles/dream_looong_layer18_888/dream0_466.csv',\n",
       " 'dreamfiles/dream_looong_layer18_888/dream0_467.csv',\n",
       " 'dreamfiles/dream_looong_layer18_888/dream0_468.csv',\n",
       " 'dreamfiles/dream_looong_layer18_888/dream0_469.csv',\n",
       " 'dreamfiles/dream_looong_layer18_888/dream0_470.csv',\n",
       " 'dreamfiles/dream_looong_layer18_888/dream0_471.csv',\n",
       " 'dreamfiles/dream_looong_layer18_888/dream0_472.csv',\n",
       " 'dreamfiles/dream_looong_layer18_888/dream0_473.csv',\n",
       " 'dreamfiles/dream_looong_layer18_888/dream0_474.csv',\n",
       " 'dreamfiles/dream_looong_layer18_888/dream0_475.csv',\n",
       " 'dreamfiles/dream_looong_layer18_888/dream0_476.csv',\n",
       " 'dreamfiles/dream_looong_layer18_888/dream0_477.csv',\n",
       " 'dreamfiles/dream_looong_layer18_888/dream0_478.csv',\n",
       " 'dreamfiles/dream_looong_layer18_888/dream0_479.csv',\n",
       " 'dreamfiles/dream_looong_layer18_888/dream0_480.csv',\n",
       " 'dreamfiles/dream_looong_layer18_888/dream0_481.csv',\n",
       " 'dreamfiles/dream_looong_layer18_888/dream0_482.csv',\n",
       " 'dreamfiles/dream_looong_layer18_888/dream0_483.csv',\n",
       " 'dreamfiles/dream_looong_layer18_888/dream0_484.csv',\n",
       " 'dreamfiles/dream_looong_layer18_888/dream0_485.csv',\n",
       " 'dreamfiles/dream_looong_layer18_888/dream0_486.csv',\n",
       " 'dreamfiles/dream_looong_layer18_888/dream0_487.csv',\n",
       " 'dreamfiles/dream_looong_layer18_888/dream0_488.csv',\n",
       " 'dreamfiles/dream_looong_layer18_888/dream0_489.csv']"
      ]
     },
     "execution_count": 343,
     "metadata": {},
     "output_type": "execute_result"
    }
   ],
   "source": [
    "res[9]"
   ]
  }
 ],
 "metadata": {
  "kernelspec": {
   "display_name": "Python 3 (ipykernel)",
   "language": "python",
   "name": "python3"
  },
  "language_info": {
   "codemirror_mode": {
    "name": "ipython",
    "version": 3
   },
   "file_extension": ".py",
   "mimetype": "text/x-python",
   "name": "python",
   "nbconvert_exporter": "python",
   "pygments_lexer": "ipython3",
   "version": "3.9.7"
  }
 },
 "nbformat": 4,
 "nbformat_minor": 5
}
